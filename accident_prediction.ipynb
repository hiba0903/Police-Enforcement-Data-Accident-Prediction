{
 "cells": [
  {
   "cell_type": "markdown",
   "metadata": {},
   "source": [
    "importing libraries"
   ]
  },
  {
   "cell_type": "code",
   "execution_count": 1,
   "metadata": {},
   "outputs": [],
   "source": [
    "import numpy as numpy\n",
    "import pandas as pd\n",
    "import matplotlib.pyplot as plt\n",
    "import seaborn as sns\n",
    "from sklearn.model_selection import train_test_split\n",
    "from sklearn.ensemble import RandomForestClassifier\n",
    "from sklearn.metrics import accuracy_score, precision_score, recall_score, f1_score, roc_auc_score\n",
    "from sklearn.model_selection import GridSearchCV\n",
    "from sklearn.preprocessing import OneHotEncoder\n",
    "from sklearn.preprocessing import LabelEncoder"
   ]
  },
  {
   "cell_type": "markdown",
   "metadata": {},
   "source": [
    "Combining the data"
   ]
  },
  {
   "cell_type": "code",
   "execution_count": 2,
   "metadata": {},
   "outputs": [],
   "source": [
    "# Read all sheets into a dictionary\n",
    "all_sheets = pd.read_excel(\"working.xlsx\", sheet_name=None)\n",
    "\n",
    "# Concatenate all sheets into a single DataFrame\n",
    "merged_data = pd.concat(all_sheets.values(), ignore_index=True)\n",
    "\n",
    "# Save to a new Excel file\n",
    "merged_data.to_excel(\"Merged_Data.xlsx\", index=False)\n"
   ]
  },
  {
   "cell_type": "markdown",
   "metadata": {},
   "source": [
    "Read the data "
   ]
  },
  {
   "cell_type": "code",
   "execution_count": 3,
   "metadata": {},
   "outputs": [],
   "source": [
    "data = pd.read_excel(\"Merged_Data.xlsx\")"
   ]
  },
  {
   "cell_type": "markdown",
   "metadata": {},
   "source": [
    "Summary of the data"
   ]
  },
  {
   "cell_type": "code",
   "execution_count": 4,
   "metadata": {},
   "outputs": [
    {
     "name": "stdout",
     "output_type": "stream",
     "text": [
      "<class 'pandas.core.frame.DataFrame'>\n",
      "RangeIndex: 20066 entries, 0 to 20065\n",
      "Data columns (total 32 columns):\n",
      " #   Column              Non-Null Count  Dtype         \n",
      "---  ------              --------------  -----         \n",
      " 0   District            20066 non-null  object        \n",
      " 1   PS Name             20066 non-null  object        \n",
      " 2   FIR No              15572 non-null  object        \n",
      " 3   Date Report         20066 non-null  datetime64[ns]\n",
      " 4   Date Accident       20066 non-null  datetime64[ns]\n",
      " 5   Time Report         20066 non-null  object        \n",
      " 6   Time Accident       20066 non-null  object        \n",
      " 7   Sections            20066 non-null  object        \n",
      " 8   Accident type       20066 non-null  object        \n",
      " 9   Death               20066 non-null  int64         \n",
      " 10  Grievous            20066 non-null  int64         \n",
      " 11  Minor               20066 non-null  int64         \n",
      " 12  Pedestrian          20066 non-null  int64         \n",
      " 13  Cyclist             20066 non-null  int64         \n",
      " 14  Latitude            20066 non-null  float64       \n",
      " 15  Longitude           20066 non-null  float64       \n",
      " 16  Place of Occurance  20066 non-null  object        \n",
      " 17  Type Area           20066 non-null  object        \n",
      " 18  City/Town/ Village  20066 non-null  object        \n",
      " 19  Lanes Road          20066 non-null  object        \n",
      " 20  Divider             20066 non-null  object        \n",
      " 21  Spot Accident       20066 non-null  object        \n",
      " 22  Weather             20066 non-null  object        \n",
      " 23  T -Junction         5470 non-null   object        \n",
      " 24  Collision           20066 non-null  object        \n",
      " 25  Type Road           20066 non-null  object        \n",
      " 26  Road Features       20066 non-null  object        \n",
      " 27  Visibility          20066 non-null  object        \n",
      " 28  Traffic Control     20066 non-null  object        \n",
      " 29  Accussed Vehicle    20066 non-null  object        \n",
      " 30  Victim Vehicle      20066 non-null  object        \n",
      " 31  FIR                 4494 non-null   object        \n",
      "dtypes: datetime64[ns](2), float64(2), int64(5), object(23)\n",
      "memory usage: 4.9+ MB\n"
     ]
    }
   ],
   "source": [
    "data.info()"
   ]
  },
  {
   "cell_type": "markdown",
   "metadata": {},
   "source": [
    "Displaying the head rows"
   ]
  },
  {
   "cell_type": "code",
   "execution_count": 5,
   "metadata": {},
   "outputs": [
    {
     "data": {
      "text/html": [
       "<div>\n",
       "<style scoped>\n",
       "    .dataframe tbody tr th:only-of-type {\n",
       "        vertical-align: middle;\n",
       "    }\n",
       "\n",
       "    .dataframe tbody tr th {\n",
       "        vertical-align: top;\n",
       "    }\n",
       "\n",
       "    .dataframe thead th {\n",
       "        text-align: right;\n",
       "    }\n",
       "</style>\n",
       "<table border=\"1\" class=\"dataframe\">\n",
       "  <thead>\n",
       "    <tr style=\"text-align: right;\">\n",
       "      <th></th>\n",
       "      <th>District</th>\n",
       "      <th>PS Name</th>\n",
       "      <th>FIR No</th>\n",
       "      <th>Date Report</th>\n",
       "      <th>Date Accident</th>\n",
       "      <th>Time Report</th>\n",
       "      <th>Time Accident</th>\n",
       "      <th>Sections</th>\n",
       "      <th>Accident type</th>\n",
       "      <th>Death</th>\n",
       "      <th>...</th>\n",
       "      <th>Weather</th>\n",
       "      <th>T -Junction</th>\n",
       "      <th>Collision</th>\n",
       "      <th>Type Road</th>\n",
       "      <th>Road Features</th>\n",
       "      <th>Visibility</th>\n",
       "      <th>Traffic Control</th>\n",
       "      <th>Accussed Vehicle</th>\n",
       "      <th>Victim Vehicle</th>\n",
       "      <th>FIR</th>\n",
       "    </tr>\n",
       "  </thead>\n",
       "  <tbody>\n",
       "    <tr>\n",
       "      <th>0</th>\n",
       "      <td>THIRUVANANTHAPURAM CITY</td>\n",
       "      <td>Vattiyoorkavu</td>\n",
       "      <td>7000/2019</td>\n",
       "      <td>2019-01-13</td>\n",
       "      <td>2019-12-01</td>\n",
       "      <td>18:00:00</td>\n",
       "      <td>17:30:00</td>\n",
       "      <td>279,337,338</td>\n",
       "      <td>Minor Injury</td>\n",
       "      <td>0</td>\n",
       "      <td>...</td>\n",
       "      <td>Sunny/Clear</td>\n",
       "      <td>T- Junction</td>\n",
       "      <td>Hit from Back</td>\n",
       "      <td>National Highway</td>\n",
       "      <td>Straight Road</td>\n",
       "      <td>Good</td>\n",
       "      <td>Uncontrolled</td>\n",
       "      <td>Tipper</td>\n",
       "      <td>Motor Cycle</td>\n",
       "      <td>NaN</td>\n",
       "    </tr>\n",
       "    <tr>\n",
       "      <th>1</th>\n",
       "      <td>THIRUVANANTHAPURAM CITY</td>\n",
       "      <td>Vanchiyoor</td>\n",
       "      <td>7001/2019</td>\n",
       "      <td>2019-01-04</td>\n",
       "      <td>2019-12-31</td>\n",
       "      <td>11:25:00</td>\n",
       "      <td>06:30:00</td>\n",
       "      <td>279</td>\n",
       "      <td>Fatal</td>\n",
       "      <td>1</td>\n",
       "      <td>...</td>\n",
       "      <td>Sunny/Clear</td>\n",
       "      <td>Staggered junction</td>\n",
       "      <td>Hit Pedestrian</td>\n",
       "      <td>National Highway</td>\n",
       "      <td>Straight Road</td>\n",
       "      <td>Good</td>\n",
       "      <td>Uncontrolled</td>\n",
       "      <td>Motor Cycle</td>\n",
       "      <td>Motor Cycle</td>\n",
       "      <td>NaN</td>\n",
       "    </tr>\n",
       "    <tr>\n",
       "      <th>2</th>\n",
       "      <td>THIRUVANANTHAPURAM CITY</td>\n",
       "      <td>Vanchiyoor</td>\n",
       "      <td>7002/2019</td>\n",
       "      <td>2019-01-02</td>\n",
       "      <td>2019-12-24</td>\n",
       "      <td>17:40:00</td>\n",
       "      <td>08:45:00</td>\n",
       "      <td>MO(Minor)</td>\n",
       "      <td>Grevious Injury</td>\n",
       "      <td>0</td>\n",
       "      <td>...</td>\n",
       "      <td>Sunny/Clear</td>\n",
       "      <td>NaN</td>\n",
       "      <td>Hit from Back</td>\n",
       "      <td>State Highway</td>\n",
       "      <td>Straight Road</td>\n",
       "      <td>Good</td>\n",
       "      <td>Uncontrolled</td>\n",
       "      <td>Motor Cycle</td>\n",
       "      <td>Scooter</td>\n",
       "      <td>NaN</td>\n",
       "    </tr>\n",
       "    <tr>\n",
       "      <th>3</th>\n",
       "      <td>THIRUVANANTHAPURAM CITY</td>\n",
       "      <td>Vanchiyoor</td>\n",
       "      <td>7003/2019</td>\n",
       "      <td>2019-01-02</td>\n",
       "      <td>2019-01-01</td>\n",
       "      <td>16:13:00</td>\n",
       "      <td>14:15:00</td>\n",
       "      <td>279,337,338</td>\n",
       "      <td>Grevious Injury</td>\n",
       "      <td>0</td>\n",
       "      <td>...</td>\n",
       "      <td>Sunny/Clear</td>\n",
       "      <td>T- Junction</td>\n",
       "      <td>Hit from Back</td>\n",
       "      <td>Other Road</td>\n",
       "      <td>Curved Road</td>\n",
       "      <td>Good</td>\n",
       "      <td>Uncontrolled</td>\n",
       "      <td>Auto rickshaw</td>\n",
       "      <td>Motor Cycle</td>\n",
       "      <td>NaN</td>\n",
       "    </tr>\n",
       "    <tr>\n",
       "      <th>4</th>\n",
       "      <td>THIRUVANANTHAPURAM CITY</td>\n",
       "      <td>Vanchiyoor</td>\n",
       "      <td>7004/2019</td>\n",
       "      <td>2019-01-08</td>\n",
       "      <td>2019-01-17</td>\n",
       "      <td>18:15:00</td>\n",
       "      <td>17:45:00</td>\n",
       "      <td>279,337,338</td>\n",
       "      <td>Grevious Injury</td>\n",
       "      <td>0</td>\n",
       "      <td>...</td>\n",
       "      <td>Sunny/Clear</td>\n",
       "      <td>NaN</td>\n",
       "      <td>Hit from Side</td>\n",
       "      <td>State Highway</td>\n",
       "      <td>Straight Road</td>\n",
       "      <td>Good</td>\n",
       "      <td>Uncontrolled</td>\n",
       "      <td>Motor Cycle</td>\n",
       "      <td>Car</td>\n",
       "      <td>NaN</td>\n",
       "    </tr>\n",
       "  </tbody>\n",
       "</table>\n",
       "<p>5 rows × 32 columns</p>\n",
       "</div>"
      ],
      "text/plain": [
       "                  District        PS Name     FIR No Date Report  \\\n",
       "0  THIRUVANANTHAPURAM CITY  Vattiyoorkavu  7000/2019  2019-01-13   \n",
       "1  THIRUVANANTHAPURAM CITY     Vanchiyoor  7001/2019  2019-01-04   \n",
       "2  THIRUVANANTHAPURAM CITY     Vanchiyoor  7002/2019  2019-01-02   \n",
       "3  THIRUVANANTHAPURAM CITY     Vanchiyoor  7003/2019  2019-01-02   \n",
       "4  THIRUVANANTHAPURAM CITY     Vanchiyoor  7004/2019  2019-01-08   \n",
       "\n",
       "  Date Accident Time Report Time Accident     Sections    Accident type  \\\n",
       "0    2019-12-01    18:00:00      17:30:00  279,337,338     Minor Injury   \n",
       "1    2019-12-31    11:25:00      06:30:00          279            Fatal   \n",
       "2    2019-12-24    17:40:00      08:45:00    MO(Minor)  Grevious Injury   \n",
       "3    2019-01-01    16:13:00      14:15:00  279,337,338  Grevious Injury   \n",
       "4    2019-01-17    18:15:00      17:45:00  279,337,338  Grevious Injury   \n",
       "\n",
       "   Death  ...      Weather         T -Junction       Collision  \\\n",
       "0      0  ...  Sunny/Clear         T- Junction   Hit from Back   \n",
       "1      1  ...  Sunny/Clear  Staggered junction  Hit Pedestrian   \n",
       "2      0  ...  Sunny/Clear                 NaN   Hit from Back   \n",
       "3      0  ...  Sunny/Clear         T- Junction   Hit from Back   \n",
       "4      0  ...  Sunny/Clear                 NaN   Hit from Side   \n",
       "\n",
       "          Type Road  Road Features  Visibility Traffic Control  \\\n",
       "0  National Highway  Straight Road        Good    Uncontrolled   \n",
       "1  National Highway  Straight Road        Good    Uncontrolled   \n",
       "2     State Highway  Straight Road        Good    Uncontrolled   \n",
       "3        Other Road    Curved Road        Good    Uncontrolled   \n",
       "4     State Highway  Straight Road        Good    Uncontrolled   \n",
       "\n",
       "  Accussed Vehicle Victim Vehicle  FIR  \n",
       "0           Tipper    Motor Cycle  NaN  \n",
       "1      Motor Cycle    Motor Cycle  NaN  \n",
       "2      Motor Cycle        Scooter  NaN  \n",
       "3    Auto rickshaw    Motor Cycle  NaN  \n",
       "4      Motor Cycle            Car  NaN  \n",
       "\n",
       "[5 rows x 32 columns]"
      ]
     },
     "execution_count": 5,
     "metadata": {},
     "output_type": "execute_result"
    }
   ],
   "source": [
    "data.head()"
   ]
  },
  {
   "cell_type": "markdown",
   "metadata": {},
   "source": [
    "Shape of the data"
   ]
  },
  {
   "cell_type": "code",
   "execution_count": 6,
   "metadata": {},
   "outputs": [
    {
     "data": {
      "text/plain": [
       "(20066, 32)"
      ]
     },
     "execution_count": 6,
     "metadata": {},
     "output_type": "execute_result"
    }
   ],
   "source": [
    "data.shape"
   ]
  },
  {
   "cell_type": "markdown",
   "metadata": {},
   "source": [
    "Checking for null"
   ]
  },
  {
   "cell_type": "code",
   "execution_count": 7,
   "metadata": {},
   "outputs": [
    {
     "data": {
      "text/plain": [
       "District                  0\n",
       "PS Name                   0\n",
       "FIR No                 4494\n",
       "Date Report               0\n",
       "Date Accident             0\n",
       "Time Report               0\n",
       "Time Accident             0\n",
       "Sections                  0\n",
       "Accident type             0\n",
       "Death                     0\n",
       "Grievous                  0\n",
       "Minor                     0\n",
       "Pedestrian                0\n",
       "Cyclist                   0\n",
       "Latitude                  0\n",
       "Longitude                 0\n",
       "Place of Occurance        0\n",
       "Type Area                 0\n",
       "City/Town/ Village        0\n",
       "Lanes Road                0\n",
       "Divider                   0\n",
       "Spot Accident             0\n",
       "Weather                   0\n",
       "T -Junction           14596\n",
       "Collision                 0\n",
       "Type Road                 0\n",
       "Road Features             0\n",
       "Visibility                0\n",
       "Traffic Control           0\n",
       "Accussed Vehicle          0\n",
       "Victim Vehicle            0\n",
       "FIR                   15572\n",
       "dtype: int64"
      ]
     },
     "execution_count": 7,
     "metadata": {},
     "output_type": "execute_result"
    }
   ],
   "source": [
    "data.isnull().sum()"
   ]
  },
  {
   "cell_type": "markdown",
   "metadata": {},
   "source": [
    "We are not using FIR details for our model. filling the T juction with Placeholder unknown"
   ]
  },
  {
   "cell_type": "code",
   "execution_count": 8,
   "metadata": {},
   "outputs": [],
   "source": [
    "data['T -Junction'] = data['T -Junction'].fillna(\"Unknown\")"
   ]
  },
  {
   "cell_type": "markdown",
   "metadata": {},
   "source": [
    "Detecting outliers"
   ]
  },
  {
   "cell_type": "code",
   "execution_count": 9,
   "metadata": {},
   "outputs": [
    {
     "data": {
      "image/png": "[encoded data removed]",
      "text/plain": [
       "<Figure size 1500x800 with 7 Axes>"
      ]
     },
     "metadata": {},
     "output_type": "display_data"
    }
   ],
   "source": [
    "# Plot box plots for numerical columns\n",
    "numerical_columns = ['Death', 'Grievous', 'Minor', 'Pedestrian', 'Cyclist', 'Latitude', 'Longitude']\n",
    "plt.figure(figsize=(15, 8))\n",
    "for i, col in enumerate(numerical_columns, 1):\n",
    "    plt.subplot(2, 4, i)\n",
    "    sns.boxplot(data[col])\n",
    "    plt.title(f\"Box plot of {col}\")\n",
    "\n",
    "plt.tight_layout()\n",
    "plt.show()"
   ]
  },
  {
   "cell_type": "markdown",
   "metadata": {},
   "source": [
    "On analysing the values of the detected outlier column, it is concluded that they are not real outliers"
   ]
  },
  {
   "cell_type": "code",
   "execution_count": 10,
   "metadata": {},
   "outputs": [
    {
     "name": "stdout",
     "output_type": "stream",
     "text": [
      "[0 1 2 3 5]\n",
      "[0 1 2 3 4 5 6]\n",
      "[ 2  0  1  3  4  6  7  5 14 13 12 10  8  9 29 35 25]\n",
      "[0 1 2 3 4 6]\n",
      "[0 1 2]\n",
      "[10.1902   10.107051  9.942077 ... 12.506886 11.986299 12.204597]\n",
      "[76.2002   76.261841 76.644036 ... 75.040711 75.376123 75.134203]\n"
     ]
    }
   ],
   "source": [
    "for col in numerical_columns:\n",
    "    print(data[col].unique())"
   ]
  },
  {
   "cell_type": "markdown",
   "metadata": {},
   "source": [
    "Converting the Date to Date-time format"
   ]
  },
  {
   "cell_type": "code",
   "execution_count": 11,
   "metadata": {},
   "outputs": [],
   "source": [
    "data['Month'] = data['Date Accident'].dt.month\n",
    "data['Day_of_Week'] = data['Date Accident'].dt.dayofweek"
   ]
  },
  {
   "cell_type": "markdown",
   "metadata": {},
   "source": [
    "One-hot encode categorical features\n"
   ]
  },
  {
   "cell_type": "code",
   "execution_count": 12,
   "metadata": {},
   "outputs": [],
   "source": [
    "data = pd.get_dummies(data, columns=['District', 'PS Name', 'Accident type', 'Place of Occurance', \n",
    "                                 'Type Area', 'City/Town/ Village', 'Lanes Road', 'Weather', \n",
    "                                 'Visibility', 'Traffic Control', 'Accussed Vehicle', \n",
    "                                 'Victim Vehicle', 'Type Road', 'Road Features'], drop_first=True)\n"
   ]
  },
  {
   "cell_type": "code",
   "execution_count": 13,
   "metadata": {},
   "outputs": [
    {
     "name": "stdout",
     "output_type": "stream",
     "text": [
      "Index(['FIR No', 'Date Report', 'Date Accident', 'Time Report',\n",
      "       'Time Accident', 'Sections', 'Death', 'Grievous', 'Minor', 'Pedestrian',\n",
      "       ...\n",
      "       'Type Road_ODR', 'Type Road_Other Road', 'Type Road_State Highway',\n",
      "       'Road Features_Culvert', 'Road Features_Curved Road',\n",
      "       'Road Features_Ongoing Road Works/Under Construction',\n",
      "       'Road Features_Others', 'Road Features_Pot Holes',\n",
      "       'Road Features_Steep Grade', 'Road Features_Straight Road'],\n",
      "      dtype='object', length=7551)\n"
     ]
    }
   ],
   "source": [
    "print(data.columns)\n"
   ]
  },
  {
   "cell_type": "markdown",
   "metadata": {},
   "source": [
    "Label Encoding for ordinal values"
   ]
  },
  {
   "cell_type": "code",
   "execution_count": 14,
   "metadata": {},
   "outputs": [
    {
     "ename": "KeyError",
     "evalue": "'Accident type'",
     "output_type": "error",
     "traceback": [
      "\u001b[0;31m---------------------------------------------------------------------------\u001b[0m",
      "\u001b[0;31mKeyError\u001b[0m                                  Traceback (most recent call last)",
      "File \u001b[0;32m~/Desktop/Police-data-tasks-files/.env/lib/python3.10/site-packages/pandas/core/indexes/base.py:3805\u001b[0m, in \u001b[0;36mIndex.get_loc\u001b[0;34m(self, key)\u001b[0m\n\u001b[1;32m   3804\u001b[0m \u001b[38;5;28;01mtry\u001b[39;00m:\n\u001b[0;32m-> 3805\u001b[0m     \u001b[38;5;28;01mreturn\u001b[39;00m \u001b[38;5;28;43mself\u001b[39;49m\u001b[38;5;241;43m.\u001b[39;49m\u001b[43m_engine\u001b[49m\u001b[38;5;241;43m.\u001b[39;49m\u001b[43mget_loc\u001b[49m\u001b[43m(\u001b[49m\u001b[43mcasted_key\u001b[49m\u001b[43m)\u001b[49m\n\u001b[1;32m   3806\u001b[0m \u001b[38;5;28;01mexcept\u001b[39;00m \u001b[38;5;167;01mKeyError\u001b[39;00m \u001b[38;5;28;01mas\u001b[39;00m err:\n",
      "File \u001b[0;32mindex.pyx:167\u001b[0m, in \u001b[0;36mpandas._libs.index.IndexEngine.get_loc\u001b[0;34m()\u001b[0m\n",
      "File \u001b[0;32mindex.pyx:196\u001b[0m, in \u001b[0;36mpandas._libs.index.IndexEngine.get_loc\u001b[0;34m()\u001b[0m\n",
      "File \u001b[0;32mpandas/_libs/hashtable_class_helper.pxi:7081\u001b[0m, in \u001b[0;36mpandas._libs.hashtable.PyObjectHashTable.get_item\u001b[0;34m()\u001b[0m\n",
      "File \u001b[0;32mpandas/_libs/hashtable_class_helper.pxi:7089\u001b[0m, in \u001b[0;36mpandas._libs.hashtable.PyObjectHashTable.get_item\u001b[0;34m()\u001b[0m\n",
      "\u001b[0;31mKeyError\u001b[0m: 'Accident type'",
      "\nThe above exception was the direct cause of the following exception:\n",
      "\u001b[0;31mKeyError\u001b[0m                                  Traceback (most recent call last)",
      "Cell \u001b[0;32mIn[14], line 2\u001b[0m\n\u001b[1;32m      1\u001b[0m label_encoder \u001b[38;5;241m=\u001b[39m LabelEncoder()\n\u001b[0;32m----> 2\u001b[0m data[\u001b[38;5;124m'\u001b[39m\u001b[38;5;124mAccident type\u001b[39m\u001b[38;5;124m'\u001b[39m] \u001b[38;5;241m=\u001b[39m label_encoder\u001b[38;5;241m.\u001b[39mfit_transform(\u001b[43mdata\u001b[49m\u001b[43m[\u001b[49m\u001b[38;5;124;43m'\u001b[39;49m\u001b[38;5;124;43mAccident type\u001b[39;49m\u001b[38;5;124;43m'\u001b[39;49m\u001b[43m]\u001b[49m)\n",
      "File \u001b[0;32m~/Desktop/Police-data-tasks-files/.env/lib/python3.10/site-packages/pandas/core/frame.py:4102\u001b[0m, in \u001b[0;36mDataFrame.__getitem__\u001b[0;34m(self, key)\u001b[0m\n\u001b[1;32m   4100\u001b[0m \u001b[38;5;28;01mif\u001b[39;00m \u001b[38;5;28mself\u001b[39m\u001b[38;5;241m.\u001b[39mcolumns\u001b[38;5;241m.\u001b[39mnlevels \u001b[38;5;241m>\u001b[39m \u001b[38;5;241m1\u001b[39m:\n\u001b[1;32m   4101\u001b[0m     \u001b[38;5;28;01mreturn\u001b[39;00m \u001b[38;5;28mself\u001b[39m\u001b[38;5;241m.\u001b[39m_getitem_multilevel(key)\n\u001b[0;32m-> 4102\u001b[0m indexer \u001b[38;5;241m=\u001b[39m \u001b[38;5;28;43mself\u001b[39;49m\u001b[38;5;241;43m.\u001b[39;49m\u001b[43mcolumns\u001b[49m\u001b[38;5;241;43m.\u001b[39;49m\u001b[43mget_loc\u001b[49m\u001b[43m(\u001b[49m\u001b[43mkey\u001b[49m\u001b[43m)\u001b[49m\n\u001b[1;32m   4103\u001b[0m \u001b[38;5;28;01mif\u001b[39;00m is_integer(indexer):\n\u001b[1;32m   4104\u001b[0m     indexer \u001b[38;5;241m=\u001b[39m [indexer]\n",
      "File \u001b[0;32m~/Desktop/Police-data-tasks-files/.env/lib/python3.10/site-packages/pandas/core/indexes/base.py:3812\u001b[0m, in \u001b[0;36mIndex.get_loc\u001b[0;34m(self, key)\u001b[0m\n\u001b[1;32m   3807\u001b[0m     \u001b[38;5;28;01mif\u001b[39;00m \u001b[38;5;28misinstance\u001b[39m(casted_key, \u001b[38;5;28mslice\u001b[39m) \u001b[38;5;129;01mor\u001b[39;00m (\n\u001b[1;32m   3808\u001b[0m         \u001b[38;5;28misinstance\u001b[39m(casted_key, abc\u001b[38;5;241m.\u001b[39mIterable)\n\u001b[1;32m   3809\u001b[0m         \u001b[38;5;129;01mand\u001b[39;00m \u001b[38;5;28many\u001b[39m(\u001b[38;5;28misinstance\u001b[39m(x, \u001b[38;5;28mslice\u001b[39m) \u001b[38;5;28;01mfor\u001b[39;00m x \u001b[38;5;129;01min\u001b[39;00m casted_key)\n\u001b[1;32m   3810\u001b[0m     ):\n\u001b[1;32m   3811\u001b[0m         \u001b[38;5;28;01mraise\u001b[39;00m InvalidIndexError(key)\n\u001b[0;32m-> 3812\u001b[0m     \u001b[38;5;28;01mraise\u001b[39;00m \u001b[38;5;167;01mKeyError\u001b[39;00m(key) \u001b[38;5;28;01mfrom\u001b[39;00m \u001b[38;5;21;01merr\u001b[39;00m\n\u001b[1;32m   3813\u001b[0m \u001b[38;5;28;01mexcept\u001b[39;00m \u001b[38;5;167;01mTypeError\u001b[39;00m:\n\u001b[1;32m   3814\u001b[0m     \u001b[38;5;66;03m# If we have a listlike key, _check_indexing_error will raise\u001b[39;00m\n\u001b[1;32m   3815\u001b[0m     \u001b[38;5;66;03m#  InvalidIndexError. Otherwise we fall through and re-raise\u001b[39;00m\n\u001b[1;32m   3816\u001b[0m     \u001b[38;5;66;03m#  the TypeError.\u001b[39;00m\n\u001b[1;32m   3817\u001b[0m     \u001b[38;5;28mself\u001b[39m\u001b[38;5;241m.\u001b[39m_check_indexing_error(key)\n",
      "\u001b[0;31mKeyError\u001b[0m: 'Accident type'"
     ]
    }
   ],
   "source": [
    "label_encoder = LabelEncoder()\n",
    "data['Accident type'] = label_encoder.fit_transform(data['Accident type'])"
   ]
  },
  {
   "cell_type": "code",
   "execution_count": null,
   "metadata": {},
   "outputs": [],
   "source": []
  }
 ],
 "metadata": {
  "kernelspec": {
   "display_name": ".env",
   "language": "python",
   "name": "python3"
  },
  "language_info": {
   "codemirror_mode": {
    "name": "ipython",
    "version": 3
   },
   "file_extension": ".py",
   "mimetype": "text/x-python",
   "name": "python",
   "nbconvert_exporter": "python",
   "pygments_lexer": "ipython3",
   "version": "3.10.12"
  }
 },
 "nbformat": 4,
 "nbformat_minor": 2
}
